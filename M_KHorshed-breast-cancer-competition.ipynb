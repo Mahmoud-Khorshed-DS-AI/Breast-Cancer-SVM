{
 "cells": [
  {
   "cell_type": "markdown",
   "id": "20ee0d9a",
   "metadata": {},
   "source": [
    "# 1- import libraries"
   ]
  },
  {
   "cell_type": "code",
   "execution_count": 1,
   "id": "86332281",
   "metadata": {},
   "outputs": [],
   "source": [
    "import numpy as np\n",
    "import pandas as pd"
   ]
  },
  {
   "cell_type": "markdown",
   "id": "b415026b",
   "metadata": {},
   "source": [
    "# 2- load Data"
   ]
  },
  {
   "cell_type": "code",
   "execution_count": 2,
   "id": "64b6d6ca",
   "metadata": {},
   "outputs": [
    {
     "data": {
      "text/html": [
       "<div>\n",
       "<style scoped>\n",
       "    .dataframe tbody tr th:only-of-type {\n",
       "        vertical-align: middle;\n",
       "    }\n",
       "\n",
       "    .dataframe tbody tr th {\n",
       "        vertical-align: top;\n",
       "    }\n",
       "\n",
       "    .dataframe thead th {\n",
       "        text-align: right;\n",
       "    }\n",
       "</style>\n",
       "<table border=\"1\" class=\"dataframe\">\n",
       "  <thead>\n",
       "    <tr style=\"text-align: right;\">\n",
       "      <th></th>\n",
       "      <th>mean_radius</th>\n",
       "      <th>mean_texture</th>\n",
       "      <th>mean_perimeter</th>\n",
       "      <th>mean_area</th>\n",
       "      <th>mean_smoothness</th>\n",
       "      <th>diagnosis</th>\n",
       "    </tr>\n",
       "  </thead>\n",
       "  <tbody>\n",
       "    <tr>\n",
       "      <th>0</th>\n",
       "      <td>17.99</td>\n",
       "      <td>10.38</td>\n",
       "      <td>122.80</td>\n",
       "      <td>1001.0</td>\n",
       "      <td>0.11840</td>\n",
       "      <td>0</td>\n",
       "    </tr>\n",
       "    <tr>\n",
       "      <th>1</th>\n",
       "      <td>20.57</td>\n",
       "      <td>17.77</td>\n",
       "      <td>132.90</td>\n",
       "      <td>1326.0</td>\n",
       "      <td>0.08474</td>\n",
       "      <td>0</td>\n",
       "    </tr>\n",
       "    <tr>\n",
       "      <th>2</th>\n",
       "      <td>19.69</td>\n",
       "      <td>21.25</td>\n",
       "      <td>130.00</td>\n",
       "      <td>1203.0</td>\n",
       "      <td>0.10960</td>\n",
       "      <td>0</td>\n",
       "    </tr>\n",
       "    <tr>\n",
       "      <th>3</th>\n",
       "      <td>11.42</td>\n",
       "      <td>20.38</td>\n",
       "      <td>77.58</td>\n",
       "      <td>386.1</td>\n",
       "      <td>0.14250</td>\n",
       "      <td>0</td>\n",
       "    </tr>\n",
       "    <tr>\n",
       "      <th>4</th>\n",
       "      <td>20.29</td>\n",
       "      <td>14.34</td>\n",
       "      <td>135.10</td>\n",
       "      <td>1297.0</td>\n",
       "      <td>0.10030</td>\n",
       "      <td>0</td>\n",
       "    </tr>\n",
       "  </tbody>\n",
       "</table>\n",
       "</div>"
      ],
      "text/plain": [
       "   mean_radius  mean_texture  mean_perimeter  mean_area  mean_smoothness  \\\n",
       "0        17.99         10.38          122.80     1001.0          0.11840   \n",
       "1        20.57         17.77          132.90     1326.0          0.08474   \n",
       "2        19.69         21.25          130.00     1203.0          0.10960   \n",
       "3        11.42         20.38           77.58      386.1          0.14250   \n",
       "4        20.29         14.34          135.10     1297.0          0.10030   \n",
       "\n",
       "   diagnosis  \n",
       "0          0  \n",
       "1          0  \n",
       "2          0  \n",
       "3          0  \n",
       "4          0  "
      ]
     },
     "execution_count": 2,
     "metadata": {},
     "output_type": "execute_result"
    }
   ],
   "source": [
    "data_train=pd.read_csv('train.csv')\n",
    "data_train.head()"
   ]
  },
  {
   "cell_type": "markdown",
   "id": "dffd4eb2",
   "metadata": {},
   "source": [
    "## 3- X_test load"
   ]
  },
  {
   "cell_type": "code",
   "execution_count": 3,
   "id": "0837567e",
   "metadata": {},
   "outputs": [],
   "source": [
    "X_test=pd.read_csv('test.csv')\n"
   ]
  },
  {
   "cell_type": "markdown",
   "id": "3bbf13bd",
   "metadata": {},
   "source": [
    "## 4- Train data load"
   ]
  },
  {
   "cell_type": "code",
   "execution_count": 4,
   "id": "c378822a",
   "metadata": {},
   "outputs": [],
   "source": [
    "xnames = data_train.columns[:-1]\n",
    "X_train = pd.DataFrame(data_train, columns=xnames)\n"
   ]
  },
  {
   "cell_type": "code",
   "execution_count": 5,
   "id": "ddbfad1c",
   "metadata": {},
   "outputs": [],
   "source": [
    "ynames = data_train.columns[-1:]\n",
    "y_train = pd.DataFrame(data_train, columns=ynames)"
   ]
  },
  {
   "cell_type": "markdown",
   "id": "9bd891b5",
   "metadata": {},
   "source": [
    "##  5- Scaling data"
   ]
  },
  {
   "cell_type": "code",
   "execution_count": 6,
   "id": "d1208493",
   "metadata": {},
   "outputs": [],
   "source": [
    "from sklearn.preprocessing import StandardScaler,MinMaxScaler\n",
    "# TODO\n",
    "scaler = StandardScaler() #scaling the data\n",
    "\n",
    "Xtr1 = scaler.fit_transform(X_train)\n",
    "Xts1 = scaler.transform(X_test)"
   ]
  },
  {
   "cell_type": "markdown",
   "id": "0d755a68",
   "metadata": {},
   "source": [
    "## 6- Train model"
   ]
  },
  {
   "cell_type": "code",
   "execution_count": 9,
   "id": "da152b69",
   "metadata": {},
   "outputs": [
    {
     "name": "stderr",
     "output_type": "stream",
     "text": [
      "C:\\ProgramData\\Anaconda3\\lib\\site-packages\\sklearn\\utils\\validation.py:63: DataConversionWarning: A column-vector y was passed when a 1d array was expected. Please change the shape of y to (n_samples, ), for example using ravel().\n",
      "  return f(*args, **kwargs)\n"
     ]
    },
    {
     "data": {
      "text/plain": [
       "LinearSVC(C=1)"
      ]
     },
     "execution_count": 9,
     "metadata": {},
     "output_type": "execute_result"
    }
   ],
   "source": [
    "# TODO\n",
    "# from sklearn import linear_model\n",
    "\n",
    "# Logreg = linear_model.LogisticRegression(solver='liblinear', random_state=123,C=1e5)\n",
    "\n",
    "from sklearn import svm \n",
    "linear_svc = svm.LinearSVC(C=1).fit(Xtr1, y_train)\n",
    "\n",
    "linear_svc.fit(Xtr1,np.ravel(y_train)) "
   ]
  },
  {
   "cell_type": "markdown",
   "id": "568adfe0",
   "metadata": {},
   "source": [
    "## 7- Predict model"
   ]
  },
  {
   "cell_type": "code",
   "execution_count": 11,
   "id": "1ef43523",
   "metadata": {},
   "outputs": [],
   "source": [
    "# TODO\n",
    "y_pred = linear_svc.predict(Xts1)\n"
   ]
  },
  {
   "cell_type": "code",
   "execution_count": 12,
   "id": "e6d07616",
   "metadata": {},
   "outputs": [],
   "source": [
    "data_Test = pd.read_csv('test_sample.csv') #empty file \n",
    "data_Test['Id'] = list(range(1,len(y_pred)+1))\n",
    "\n",
    "data_Test['Category'] = y_pred #prediction values\n",
    "data_Test.to_csv('test_sample.csv', index=False) #write changes"
   ]
  },
  {
   "cell_type": "code",
   "execution_count": null,
   "id": "40729a37",
   "metadata": {},
   "outputs": [],
   "source": []
  }
 ],
 "metadata": {
  "kernelspec": {
   "display_name": "Python 3 (ipykernel)",
   "language": "python",
   "name": "python3"
  },
  "language_info": {
   "codemirror_mode": {
    "name": "ipython",
    "version": 3
   },
   "file_extension": ".py",
   "mimetype": "text/x-python",
   "name": "python",
   "nbconvert_exporter": "python",
   "pygments_lexer": "ipython3",
   "version": "3.9.7"
  }
 },
 "nbformat": 4,
 "nbformat_minor": 5
}
